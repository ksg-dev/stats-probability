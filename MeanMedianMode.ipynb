{
 "cells": [
  {
   "cell_type": "markdown",
   "metadata": {},
   "source": [
    "# Mean, Median, Mode, and introducing NumPy"
   ]
  },
  {
   "cell_type": "markdown",
   "metadata": {},
   "source": [
    "## Mean vs. Median"
   ]
  },
  {
   "cell_type": "markdown",
   "metadata": {},
   "source": [
    "Let's create some fake income data, centered around 27,000 with a normal distribution and standard deviation of 15,000, with 10,000 data points. (We'll discuss those terms more later, if you're not familiar with them.)\n",
    "\n",
    "Then, compute the mean (average) - it should be close to 27,000:"
   ]
  },
  {
   "cell_type": "code",
   "execution_count": 1,
   "metadata": {},
   "outputs": [
    {
     "data": {
      "text/plain": [
       "26995.658285728037"
      ]
     },
     "execution_count": 1,
     "metadata": {},
     "output_type": "execute_result"
    }
   ],
   "source": [
    "import numpy as np\n",
    "\n",
    "incomes = np.random.normal(27000, 15000, 10000)\n",
    "np.mean(incomes)"
   ]
  },
  {
   "cell_type": "markdown",
   "metadata": {},
   "source": [
    "We can segment the income data into 50 buckets, and plot it as a histogram:"
   ]
  },
  {
   "cell_type": "code",
   "execution_count": 2,
   "metadata": {},
   "outputs": [
    {
     "data": {
      "image/png": "[encoded data removed]",
      "text/plain": [
       "<Figure size 640x480 with 1 Axes>"
      ]
     },
     "metadata": {},
     "output_type": "display_data"
    }
   ],
   "source": [
    "%matplotlib inline\n",
    "import matplotlib.pyplot as plt\n",
    "plt.hist(incomes, 50)\n",
    "plt.show()"
   ]
  },
  {
   "cell_type": "markdown",
   "metadata": {},
   "source": [
    "Now compute the median - since we have a nice, even distribution it too should be close to 27,000:"
   ]
  },
  {
   "cell_type": "code",
   "execution_count": 3,
   "metadata": {},
   "outputs": [
    {
     "data": {
      "text/plain": [
       "27094.28546640402"
      ]
     },
     "execution_count": 3,
     "metadata": {},
     "output_type": "execute_result"
    }
   ],
   "source": [
    "np.median(incomes)"
   ]
  },
  {
   "cell_type": "markdown",
   "metadata": {},
   "source": [
    "Now we'll add Jeff Bezos into the mix. Darn income inequality!"
   ]
  },
  {
   "cell_type": "code",
   "execution_count": 4,
   "metadata": {},
   "outputs": [],
   "source": [
    "incomes = np.append(incomes, [1000000000])"
   ]
  },
  {
   "cell_type": "markdown",
   "metadata": {},
   "source": [
    "The median won't change much, but the mean does:"
   ]
  },
  {
   "cell_type": "code",
   "execution_count": 5,
   "metadata": {},
   "outputs": [
    {
     "data": {
      "text/plain": [
       "27094.854428150084"
      ]
     },
     "execution_count": 5,
     "metadata": {},
     "output_type": "execute_result"
    }
   ],
   "source": [
    "np.median(incomes)"
   ]
  },
  {
   "cell_type": "code",
   "execution_count": 6,
   "metadata": {},
   "outputs": [
    {
     "data": {
      "text/plain": [
       "126982.95998972905"
      ]
     },
     "execution_count": 6,
     "metadata": {},
     "output_type": "execute_result"
    }
   ],
   "source": [
    "np.mean(incomes)"
   ]
  },
  {
   "cell_type": "markdown",
   "metadata": {},
   "source": [
    "## Mode"
   ]
  },
  {
   "cell_type": "markdown",
   "metadata": {},
   "source": [
    "Next, let's generate some fake age data for 500 people:"
   ]
  },
  {
   "cell_type": "code",
   "execution_count": 7,
   "metadata": {},
   "outputs": [
    {
     "data": {
      "text/plain": [
       "array([65, 42, 89, 18, 26, 46, 51, 70, 56, 85, 66, 60, 28, 64, 64, 82, 78,\n",
       "       31, 84, 63, 32, 82, 46, 65, 41, 31, 36, 25, 86, 53, 21, 48, 57, 20,\n",
       "       65, 57, 63, 87, 86, 54, 81, 51, 41, 56, 57, 80, 49, 21, 26, 61, 30,\n",
       "       32, 29, 24, 44, 67, 77, 78, 18, 44, 48, 41, 58, 43, 40, 71, 65, 38,\n",
       "       74, 51, 73, 58, 73, 29, 35, 87, 46, 18, 34, 29, 59, 41, 57, 59, 29,\n",
       "       87, 83, 31, 20, 56, 89, 49, 82, 59, 71, 79, 71, 42, 42, 86, 80, 62,\n",
       "       65, 44, 71, 28, 74, 82, 76, 68, 27, 89, 79, 81, 68, 89, 80, 44, 63,\n",
       "       63, 34, 81, 22, 20, 33, 73, 70, 19, 81, 35, 36, 34, 54, 47, 47, 31,\n",
       "       36, 73, 59, 43, 19, 59, 61, 28, 59, 76, 71, 89, 41, 66, 86, 43, 36,\n",
       "       42, 22, 26, 72, 50, 18, 75, 51, 69, 41, 20, 74, 74, 37, 60, 65, 73,\n",
       "       74, 83, 82, 74, 30, 62, 80, 80, 18, 21, 43, 73, 46, 72, 44, 77, 50,\n",
       "       28, 79, 22, 24, 88, 84, 18, 43, 31, 72, 54, 43, 67, 49, 87, 66, 67,\n",
       "       29, 54, 49, 62, 71, 81, 29, 75, 69, 76, 57, 81, 50, 88, 26, 74, 32,\n",
       "       48, 54, 51, 89, 50, 70, 77, 34, 58, 59, 20, 71, 87, 68, 57, 51, 52,\n",
       "       30, 24, 66, 85, 21, 18, 88, 55, 84, 66, 51, 42, 72, 56, 18, 82, 73,\n",
       "       48, 39, 63, 24, 51, 52, 50, 25, 26, 27, 89, 34, 39, 89, 65, 32, 80,\n",
       "       37, 73, 42, 43, 63, 22, 26, 44, 74, 71, 33, 47, 18, 76, 56, 85, 52,\n",
       "       67, 78, 57, 52, 37, 55, 69, 73, 20, 43, 36, 79, 31, 25, 35, 65, 22,\n",
       "       43, 39, 55, 72, 83, 61, 36, 57, 21, 38, 40, 83, 60, 50, 25, 26, 25,\n",
       "       63, 55, 86, 66, 50, 77, 18, 25, 26, 48, 27, 89, 63, 88, 85, 89, 61,\n",
       "       38, 19, 71, 45, 34, 84, 67, 83, 50, 72, 71, 54, 56, 44, 87, 30, 58,\n",
       "       81, 52, 40, 59, 54, 64, 46, 18, 64, 67, 85, 66, 52, 86, 50, 58, 74,\n",
       "       86, 70, 23, 54, 36, 34, 31, 37, 29, 78, 78, 68, 26, 82, 51, 83, 26,\n",
       "       33, 86, 62, 43, 60, 19, 73, 38, 82, 28, 38, 82, 34, 74, 39, 79, 34,\n",
       "       45, 70, 22, 43, 79, 58, 22, 32, 55, 70, 88, 36, 19, 21, 27, 23, 65,\n",
       "       25, 43, 38, 59, 89, 73, 47, 54, 54, 57, 24, 25, 74, 64, 89, 39, 41,\n",
       "       24, 41, 73, 24, 54, 32, 34, 35, 55, 68, 74, 49, 79, 36, 84, 32, 47,\n",
       "       73, 44, 44, 46, 63, 49, 28, 63, 39, 47, 53, 26, 46, 66, 65, 78, 87,\n",
       "       29, 53, 84, 33, 32, 83, 68, 66, 26, 76, 21, 89, 89, 41, 67, 56, 59,\n",
       "       80, 27, 48, 31, 28, 26, 27])"
      ]
     },
     "execution_count": 7,
     "metadata": {},
     "output_type": "execute_result"
    }
   ],
   "source": [
    "ages = np.random.randint(18, high=90, size=500)\n",
    "ages"
   ]
  },
  {
   "cell_type": "code",
   "execution_count": 8,
   "metadata": {},
   "outputs": [
    {
     "data": {
      "text/plain": [
       "ModeResult(mode=89, count=14)"
      ]
     },
     "execution_count": 8,
     "metadata": {},
     "output_type": "execute_result"
    }
   ],
   "source": [
    "from scipy import stats\n",
    "stats.mode(ages)"
   ]
  },
  {
   "cell_type": "code",
   "execution_count": null,
   "metadata": {},
   "outputs": [],
   "source": []
  }
 ],
 "metadata": {
  "kernelspec": {
   "display_name": "Python 3 (ipykernel)",
   "language": "python",
   "name": "python3"
  },
  "language_info": {
   "codemirror_mode": {
    "name": "ipython",
    "version": 3
   },
   "file_extension": ".py",
   "mimetype": "text/x-python",
   "name": "python",
   "nbconvert_exporter": "python",
   "pygments_lexer": "ipython3",
   "version": "3.12.7"
  }
 },
 "nbformat": 4,
 "nbformat_minor": 1
}
